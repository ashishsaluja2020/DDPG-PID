{
 "cells": [
  {
   "cell_type": "code",
   "execution_count": 1,
   "metadata": {
    "scrolled": true
   },
   "outputs": [
    {
     "name": "stderr",
     "output_type": "stream",
     "text": [
      "Using TensorFlow backend.\n"
     ]
    }
   ],
   "source": [
    "import math\n",
    "import scipy\n",
    "import random\n",
    "import gym\n",
    "import numpy as np\n",
    "from control import *\n",
    "import matplotlib.pyplot as plt\n",
    "import tensorflow as tensor\n",
    "import keras.backend as K\n",
    "from collections import deque\n",
    "from keras.models import Sequential, Model\n",
    "from keras.layers import Dense, Dropout, Input, Lambda, concatenate\n",
    "from keras.optimizers import Adam\n",
    "from keras import regularizers\n",
    "from  control.matlab import *\n",
    "\n",
    "from ReplayBuffer import ReplayBuffer\n",
    "from DDPG_Actor_Network import ActorNetwork\n",
    "from DDPG_Critic_Network import CriticNetwork\n",
    "from OU import OU\n",
    "import timeit\n",
    "\n",
    "\n",
    "OU = OU()\n",
    "\n",
    "\n",
    "# class DDPG(St, St_next):\n",
    "#     def __init__(self):\n",
    "#         self.sess = K.get_session()\n",
    "#         # update rate for target model\n",
    "#         self.TAU = 0.01\n",
    "#         # experience replay \n",
    "#         self.memory_buffer = deque(maxlen=50000)\n",
    "#         # discount rate for q value\n",
    "#         self.gamma = 0.95\n",
    "#         # epislon of action selection\n",
    "#         self.epsilon = 1.0\n",
    "#         # discount rate for epislon\n",
    "#         self.epsilon_decay = 0.995\n",
    "#         # min epislon of e-greedy\n",
    "#         self.epsilon_min = 0.01\n",
    "#         # actor learning rate\n",
    "#         self.actor_lr = 0.0001\n",
    "#         # critic learning rate\n",
    "#         self.critic_lr = 0.0001\n",
    "        \n",
    "#         # DDPG model\n",
    "#         self.actor = self._build_actor()\n",
    "#         self.critic = self._build_critic()\n",
    "\n",
    "#         # DDPG target model\n",
    "#         self.target_actor = self._build_actor()\n",
    "#         self.target_actor.set_weights(self.actor.get_weights())\n",
    "#         self.target_critic = self._build_critic()\n",
    "#         self.target_critic.set_weights(self.critic.get_weights())\n",
    "\n",
    "#         # Gradient function\n",
    "#         self.get_critic_grad = self.critic_gradient()\n",
    "#         self.actor_optimizer()\n",
    "\n",
    "#         def _build_actor(self):\n",
    "#             inputs = Input(shape=(6,), name='state_input')\n",
    "#             x = Dense(200, activation='relu6', kernel_regularizers=regularizers.l2(0.01))(inputs)\n",
    "#             x = Dense(200, activation='relu6', kernel_regularizers=regularizers.l2(0.01))(x)\n",
    "#             output = Dense(10, activation='relu', kernel_regularizers=regularizers.l2(0.01))(x)\n",
    "\n",
    "#             model = Model(inputs=inputs, outputs=output)\n",
    "#             model.compile(loss='mse', optimizer=Adam(lr=self.actor_lr))\n",
    "#             return model\n",
    "        \n",
    "#         def _build_critic(self):\n",
    "#             inputs = Input(shape=(6,), name='state_input')\n",
    "#             x = Dense(200, activation='relu6', kernel_regularizers=regularizers.l2(0.01))(inputs)\n",
    "#             x = Dense(200, activation='relu6', kernel_regularizers=regularizers.l2(0.01))(x)\n",
    "#             output = Dense(10, activation='relu', kernel_regularizers=regularizers.l2(0.01))(x)\n",
    "\n",
    "#             model = Model(inputs=inputs, outputs=output)\n",
    "#             model.compile(loss='mse', optimizer=Adam(lr=self.critic_lr))\n",
    "#             return model\n",
    "\n",
    "Tracking_array = []\n",
    "\n",
    "class environment():\n",
    "    def reset(self):\n",
    "        self.kp = 29\n",
    "        self.ki = 1\n",
    "        self.kd = 0.001\n",
    "        self.curIter = 0\n",
    "        reset_state = [0,0, 0,0,0,0]\n",
    "#         reset_error = random.uniform(2,10)\n",
    "        self.error = []\n",
    "    \n",
    "        return reset_state\n",
    "\n",
    "\n",
    "    def env(self, action,curIter):\n",
    "        self.kp = action[0]\n",
    "        self.ki = action[1]\n",
    "        self.kd = action[2]\n",
    "        # current iteration: 0~100(default setting by scipy.signal.step())\n",
    "        self.curIter = curIter\n",
    "        # variable: Jl & Kt \n",
    "        # it varies according to different systems (1~3)\n",
    "        if curIter in range(1000):\n",
    "            sys_sel = 1\n",
    "        elif curIter in range(2000,4000):\n",
    "            sys_sel = 2\n",
    "        elif curIter in range(4000,6000):\n",
    "            sys_sel = 1\n",
    "        elif curIter in range(6000,8000):\n",
    "            sys_sel = 3\n",
    "        elif curIter in range(8000,10000):\n",
    "            sys_sel = 1\n",
    "        elif curIter in range(10000, 12000):\n",
    "            sys_sel = 2\n",
    "        elif curIter in range(12000, 14000):\n",
    "            sys_sel = 3\n",
    "        elif curIter in range(14000, 16000):\n",
    "            sys_sel = 1\n",
    "        elif curIter in range(16000, 18000):\n",
    "            sys_sel = 2\n",
    "        elif curIter in range(18000, 20000):\n",
    "            sys_sel  = 3\n",
    "            \n",
    "        if sys_sel == 1:\n",
    "            Jl = 2.5*1e-3\n",
    "            Kt = 1\n",
    "        elif sys_sel == 2:\n",
    "            Jl = 6.3*1e-3\n",
    "            Kt = 1\n",
    "        elif sys_sel == 3:\n",
    "            Jl = 2.5*1e-3\n",
    "            Kt = 3\n",
    "        # constant\n",
    "        Jm = 6.329*1e-4\n",
    "        Tsigma = 1.1*1e-5\n",
    "        Tsigman = 1.25*1e-4\n",
    "        B = 3.0*1e-4\n",
    "        Ksf = (60*1)/(2500*5*1e-3)\n",
    "        amplitude = 2000\n",
    "        # sample period: 100us\n",
    "        T_period = []\n",
    "        T_ini = 0\n",
    "#         for _ in range(500000):\n",
    "#             T_period.append(T_ini)\n",
    "#             T_ini += 100*1e-6\n",
    "            \n",
    "        '''\n",
    "        speed loop\n",
    "        Yspeed(s)/W(s) = B1*kd*s^2 + B1*kp*s + B1*ki / A1*s^3 + (B1*kd+A2)*s^2 + (A3+B1*kp)*s + B1*ki\n",
    "        '''\n",
    "        A1 = (Jm + Jl) * Tsigman\n",
    "        A2 = B * Tsigman + (Jm + Jl)\n",
    "        A3 = B\n",
    "        B1 = Kt * Ksf\n",
    "        # speed loop feedback lti system \n",
    "#         speed_fb_lti = scipy.signal.lti([B1*self.kd, B1*self.kp, B1*self.ki], [A1, A2+B1*kd, A3+B1*self.kp, B1*self.ki])\n",
    "        # Angular velocity: Xt\n",
    "#         t1, Xt = scipy.signal.step(speed_fb_lti, T=T_period)\n",
    "        # Amplitute: 2000\n",
    "#         Xt = amplitude * Xt\n",
    "        '''\n",
    "        step response\n",
    "        Y(s)/e(t) = 1\n",
    "        '''\n",
    "        feedback_sys = tf([B1*self.kd, B1*self.kp, B1*self.ki], [A1, A2+B1*self.kd, A3+B1*self.kp, B1*self.ki])\n",
    "            \n",
    "        Xt, t = step(feedback_sys)\n",
    "        ## optimal values\n",
    "        kp_optimal = 8.27e-5 \n",
    "        ki_optimal = 1.5936e-5 \n",
    "        kd_optimal  = .00000001\n",
    "        \n",
    "        feedback_sys_optimal = tf([B1*kd_optimal, B1*kp_optimal, B1*ki_optimal], [A1, A2+B1*kd_optimal, A3+B1*kp_optimal, B1*ki_optimal])\n",
    "            \n",
    "        optimal, t = step(feedback_sys_optimal)\n",
    "        plt.plot(t,optimal)\n",
    "        plt.title(\"optimal signal\")\n",
    "        plt.ylabel(\"Amplitude\")\n",
    "        plt.xlabel(\"time\")\n",
    "\n",
    "        ##########################\n",
    "        # step response feedback lti system\n",
    "        step_fb_lti = scipy.signal.lti(1, 1)\n",
    "        # Input signal: Ht\n",
    "#         t2, Ht = scipy.signal.step(step_fb_lti, T=T_period)\n",
    "        # Amplitute: 2000\n",
    "        ## 1000 iterations\n",
    "        Ht = optimal*1000\n",
    "        print(\"Ht\", len(Ht))\n",
    "        \n",
    "        \n",
    "        # Tracking error of the output angle of the servo system\n",
    "        Et = optimal - Xt\n",
    "        # current time spot of iteration\n",
    "#         max_len = len(Xt)\n",
    "        max_len = 100000\n",
    "        # Integral of absolute error: IAE\n",
    "        # iae = 0\n",
    "        # if self.curIter == 0:\n",
    "        #     iae = 0\n",
    "        # else:\n",
    "        #     iae = abs(absolute_Et[self.curIter] - absolute_Et[self.curIter - 1]) * 1\n",
    "        if self.curIter == 0:\n",
    "            Xt_last = Xt[0]\n",
    "            Et_last = Et[0]\n",
    "            Xt_cur = Xt[self.curIter]\n",
    "            Et_cur = Et[self.curIter]\n",
    "            Xt_next = Xt[self.curIter + 1]\n",
    "            Ht_next = Ht[self.curIter + 1]\n",
    "            Et_next = Et[self.curIter + 1]\n",
    "            Ht_a2t = Ht[self.curIter + 2]\n",
    "            Ht_a3t = Ht[self.curIter + 3]\n",
    "        elif self.curIter > max_len - 4:\n",
    "            Xt_last = Xt[self.curIter - 1]\n",
    "            Et_last = Et[self.curIter - 1]\n",
    "            Xt_cur = Xt[self.curIter]\n",
    "            Et_cur = Et[self.curIter]\n",
    "            Xt_next = Xt[max_len - 1]\n",
    "            Ht_next = Ht[max_len -1]\n",
    "            Et_next = Et[max_len -1]\n",
    "            Ht_a2t = Ht[max_len -1]\n",
    "            Ht_a3t = Ht[max_len -1]\n",
    "        else:\n",
    "#             Xt_last = Xt[self.curIter - 1]\n",
    "#             Et_last = Et[self.curIter - 1]\n",
    "            Xt_cur = Xt[self.curIter]\n",
    "            Et_cur = Et[self.curIter]\n",
    "            Xt_next = Xt[self.curIter + 1]\n",
    "            Ht_next = Ht[self.curIter + 1]\n",
    "            Et_next = Et[self.curIter + 1]\n",
    "            Ht_a2t = Ht[self.curIter + 2]\n",
    "            Ht_a3t = Ht[self.curIter + 3]\n",
    "#         St = [Xt_last, Et_last, Xt_cur, Et_cur, Ht_next, Ht_a2t]\n",
    "        St_next = [Xt_cur, Et_cur, Xt_next, Et_next, Ht_a2t, Ht_a3t]\n",
    "        Tracking_array.append(Xt_cur)\n",
    "\n",
    "        absolute_It = 0\n",
    "\n",
    "#         reward  = math.exp(pow(((0.9 *(Et_cur) / amplitude + 0.1 * abs(absolute_It) / amplitude)), 2)/ (-2) * pow(10, 2))\n",
    "        reward  = 1/(abs(math.exp(abs(Et_cur))))\n",
    "        done  = False\n",
    "        return St_next,reward,done\n",
    "\n",
    "#         plt.plot(t1, Xt)\n",
    "        # plt.xlabel('Time(s)')\n",
    "        # plt.ylabel('Angular velocity')\n",
    "        # plt.savefig('Angular velocity.jpg')\n",
    "        # plt.show()\n",
    "        # plt.plot(t2, Ht)\n",
    "        # plt.xlabel('Time(s)')\n",
    "        # plt.ylabel('Tracking signal')\n",
    "        # plt.savefig('Tracking signal.jpg')\n",
    "#         plt.show()\n",
    "#         return Xt\n",
    "        # return St, S(t+1), reward, t1: for plot usage\n",
    "        \n",
    " \n",
    "\n",
    "\n",
    "\n",
    "\n",
    "\n",
    "\n",
    "\n",
    "\n",
    "\n",
    "\n",
    "\n",
    "\n",
    "\n",
    "\n",
    "\n",
    "\n",
    "\n",
    "\n",
    "\n",
    "\n",
    "\n",
    "\n",
    "\n",
    "PID = environment()\n",
    "\n",
    "def play():\n",
    "    \n",
    "    BUFFER_SIZE = 100000\n",
    "    BATCH_SIZE = 125\n",
    "    GAMMA = 0.90\n",
    "    TAU = 0.001     #Target Network HyperParameters\n",
    "    LRA = 0.0005    #Learning rate for Actor\n",
    "    LRC = 0.005 \n",
    "    action_size = 3\n",
    "    action_dim = 3\n",
    "    state_dim  = 6\n",
    "    np.random.seed(1337)\n",
    "    \n",
    "    vision = False\n",
    "    EXPLORE = 100000.\n",
    "    episode_count = 10000\n",
    "    max_steps = 100000\n",
    "    reward = 0\n",
    "    done = False\n",
    "    step = 0\n",
    "    epsilon = 1\n",
    "    indicator = 0\n",
    "    train_indicator = 1\n",
    "    \n",
    "    config = tensor.ConfigProto()\n",
    "    config.gpu_options.allow_growth = True\n",
    "    sess = tensor.Session(config=config)\n",
    "    from keras import backend as K\n",
    "    K.set_session(sess)\n",
    "    \n",
    "    actor = ActorNetwork(sess, state_dim, action_dim, BATCH_SIZE, TAU, LRA)\n",
    "    critic = CriticNetwork(sess, state_dim, action_dim, BATCH_SIZE, TAU, LRC)\n",
    "    buff = ReplayBuffer(BUFFER_SIZE)    #Create replay buffer\n",
    "    \n",
    "    for i in range(episode_count):\n",
    "        print(\"Episode : \" + str(i) + \" Replay Buffer \" + str(buff.count())) \n",
    "#         total_reward = 0.\n",
    "#         Xt_last = 1444\n",
    "#         Et_last = 22\n",
    "#         Xt_cur = 344\n",
    "#         Et_cur = 534\n",
    "#         Ht_next = 2000\n",
    "#         Ht_a2t = 2000\n",
    "        state = PID.reset()\n",
    "        print(\"reset_error\", state)\n",
    "\n",
    "        \n",
    "        for j in range(max_steps):\n",
    "            \n",
    "            loss = 0\n",
    "            epsilon  -= 1.0/ EXPLORE\n",
    "            a_t = np.zeros([1, action_size])\n",
    "            noise_t = np.zeros([1, action_size])\n",
    "            \n",
    "            a_t_original = actor.model.predict(np.array([state]))\n",
    "#             print(\"a_t_original: \", a_t_original)\n",
    "            noise_t[0][0] = train_indicator * max(epsilon, 0) * OU.function(a_t_original[0][0], 2 , 0.01, 0.005)\n",
    "            noise_t[0][1] = train_indicator * max(epsilon, 0) * OU.function(a_t_original[0][1], 2 , 0.01, 0.005)\n",
    "            noise_t[0][2] = train_indicator * max(epsilon, 0) * OU.function(a_t_original[0][2], 2 , 0.01, 0.005)\n",
    "            \n",
    "            a_t[0][0] = a_t_original[0][0] + noise_t[0][0]\n",
    "            a_t[0][1] = a_t_original[0][1] + noise_t[0][1]\n",
    "            a_t[0][2] = a_t_original[0][2] + noise_t[0][2]\n",
    "            \n",
    "                    \n",
    "#             print(\"a_t\", a_t[0])\n",
    "            next_state, reward,done  = PID.env(a_t[0], j)\n",
    "            print(\"current_state\", next_state[1])\n",
    "#             print(\"next_state\",next_state[3])\n",
    "            print(\"reward\", reward)\n",
    "            buff.add(state, a_t[0], reward, next_state, done)   \n",
    "            batch = buff.getBatch(BATCH_SIZE)\n",
    "            states = np.asarray([e[0] for e in batch])\n",
    "            actions = np.asarray([e[1] for e in batch])\n",
    "            rewards = np.asarray([e[2] for e in batch])\n",
    "            next_states = np.asarray([e[3] for e in batch])\n",
    "            dones = np.asarray([e[4] for e in batch])\n",
    "            y_t = np.asarray([e[1] for e in batch])\n",
    "            target_q_values = critic.target_model.predict([next_states, actor.target_model.predict(next_states)])\n",
    "            for k in range(len(batch)):\n",
    "                if dones[k]:\n",
    "                    y_t[k] = rewards[k]\n",
    "                else:\n",
    "                    y_t[k] = rewards[k] + GAMMA*target_q_values[k]\n",
    "                    \n",
    "        \n",
    "            if (train_indicator):\n",
    "                loss += critic.model.train_on_batch([(states),actions], y_t) \n",
    "#                 print(\"loss\",loss)\n",
    "                a_for_grad = actor.model.predict(states)\n",
    "                if buff.count() <= BATCH_SIZE:\n",
    "                    K= buff.count()\n",
    "                else:\n",
    "                    K = BATCH_SIZE\n",
    "                states = states.reshape(K,6)\n",
    "                grads = critic.gradients(states, a_for_grad)\n",
    "                \n",
    "                actor.train(states, grads)\n",
    "                actor.target_train()\n",
    "                critic.target_train()\n",
    "                \n",
    "            \n",
    "            state = next_state\n",
    "#             total_reward += reward\n",
    "#             print(\"total_reward\", reward)\n",
    "            \n",
    "            \n",
    "#             if done:\n",
    "#                 if j == 999:\n",
    "#                     iterations.append(j)\n",
    "#                 break \n",
    "            \n",
    "                \n",
    "if __name__ == \"__main__\":\n",
    "    play()\n",
    "warnings.filterwarnings(\"ignore\")\n",
    "\n"
   ]
  },
  {
   "cell_type": "code",
   "execution_count": 2,
   "metadata": {
    "scrolled": true
   },
   "outputs": [
    {
     "ename": "NameError",
     "evalue": "name 'PID' is not defined",
     "output_type": "error",
     "traceback": [
      "\u001b[1;31m---------------------------------------------------------------------------\u001b[0m",
      "\u001b[1;31mNameError\u001b[0m                                 Traceback (most recent call last)",
      "\u001b[1;32m<ipython-input-2-a7db9bfb3006>\u001b[0m in \u001b[0;36m<module>\u001b[1;34m\u001b[0m\n\u001b[0;32m      3\u001b[0m \u001b[1;33m\u001b[0m\u001b[0m\n\u001b[0;32m      4\u001b[0m \u001b[1;33m\u001b[0m\u001b[0m\n\u001b[1;32m----> 5\u001b[1;33m     \u001b[0mx\u001b[0m\u001b[1;33m,\u001b[0m\u001b[0mdone\u001b[0m \u001b[1;33m=\u001b[0m \u001b[0mPID\u001b[0m\u001b[1;33m.\u001b[0m\u001b[0menv\u001b[0m\u001b[1;33m(\u001b[0m\u001b[1;36m8.27e-5\u001b[0m \u001b[1;33m,\u001b[0m\u001b[1;36m1.5936e-5\u001b[0m \u001b[1;33m,\u001b[0m\u001b[1;36m.00000001\u001b[0m\u001b[1;33m,\u001b[0m\u001b[0mi\u001b[0m \u001b[1;33m)\u001b[0m\u001b[1;33m\u001b[0m\u001b[1;33m\u001b[0m\u001b[0m\n\u001b[0m",
      "\u001b[1;31mNameError\u001b[0m: name 'PID' is not defined"
     ]
    }
   ],
   "source": [
    "\n",
    "for i in range(100):\n",
    "    \n",
    "    \n",
    "    x,done = PID.env(8.27e-5 ,1.5936e-5 ,.00000001,i )\n"
   ]
  },
  {
   "cell_type": "code",
   "execution_count": 16,
   "metadata": {},
   "outputs": [
    {
     "data": {
      "image/png": "[encoded data removed]",
      "text/plain": [
       "<Figure size 432x288 with 1 Axes>"
      ]
     },
     "metadata": {
      "needs_background": "light"
     },
     "output_type": "display_data"
    }
   ],
   "source": [
    "\n",
    "plt.plot(np.arange(95),np.absolute(Tracking_array[180005:180100]))\n",
    "plt.title(\"Tracking signal at 1800 episode\")\n",
    "plt.xlabel(\"iterations\")\n",
    "plt.ylabel(\"signal\")\n",
    "plt.show()"
   ]
  },
  {
   "cell_type": "code",
   "execution_count": null,
   "metadata": {
    "scrolled": true
   },
   "outputs": [],
   "source": [
    "classic = np.absolute(classic_error[500:14428])\n",
    "plt.plot(np.arange(1, 13928), classic)\n",
    "plt.xlabel(\"iterations\")\n",
    "plt.ylabel(\"Error\")\n",
    "plt.title(\"Performance of traditional tuning\")\n",
    "plt.grid()\n",
    "plt.show()"
   ]
  },
  {
   "cell_type": "code",
   "execution_count": null,
   "metadata": {},
   "outputs": [],
   "source": [
    "print(classic_error)"
   ]
  },
  {
   "cell_type": "code",
   "execution_count": 13,
   "metadata": {},
   "outputs": [
    {
     "data": {
      "text/plain": [
       "[0.0, 0.07968802648252679, 0.15732822502363478, 0.23247646701793553]"
      ]
     },
     "execution_count": 13,
     "metadata": {},
     "output_type": "execute_result"
    }
   ],
   "source": [
    "Tracking_array"
   ]
  },
  {
   "cell_type": "code",
   "execution_count": null,
   "metadata": {},
   "outputs": [],
   "source": [
    "plt.plot(np.arange(100), x)\n",
    "plt.show()"
   ]
  },
  {
   "cell_type": "code",
   "execution_count": 46,
   "metadata": {},
   "outputs": [],
   "source": [
    "values = []\n",
    "for i in range(0,500000,1000):\n",
    "    values.append(Tracking_arrar[0][i])\n",
    "    "
   ]
  },
  {
   "cell_type": "code",
   "execution_count": 47,
   "metadata": {},
   "outputs": [
    {
     "data": {
      "image/png": "[encoded data removed]",
      "text/plain": [
       "<Figure size 432x288 with 1 Axes>"
      ]
     },
     "metadata": {
      "needs_background": "light"
     },
     "output_type": "display_data"
    }
   ],
   "source": [
    "plt.plot(np.arange(500), values)\n",
    "plt.show()"
   ]
  },
  {
   "cell_type": "code",
   "execution_count": 41,
   "metadata": {},
   "outputs": [
    {
     "data": {
      "text/plain": [
       "100"
      ]
     },
     "execution_count": 41,
     "metadata": {},
     "output_type": "execute_result"
    }
   ],
   "source": [
    "len(Tracking_array)"
   ]
  },
  {
   "cell_type": "code",
   "execution_count": 3,
   "metadata": {},
   "outputs": [
    {
     "data": {
      "text/plain": [
       "[1, 2, 4, 1, 2, 4]"
      ]
     },
     "execution_count": 3,
     "metadata": {},
     "output_type": "execute_result"
    }
   ],
   "source": [
    "a = [1,2,4]\n",
    "\n",
    "b = a*2\n",
    "b"
   ]
  },
  {
   "cell_type": "code",
   "execution_count": 4,
   "metadata": {},
   "outputs": [
    {
     "data": {
      "image/png": "[encoded data removed]",
      "text/plain": [
       "<Figure size 432x288 with 1 Axes>"
      ]
     },
     "metadata": {
      "needs_background": "light"
     },
     "output_type": "display_data"
    }
   ],
   "source": [
    "environment = environment()\n",
    "environment.env(a,1)"
   ]
  },
  {
   "cell_type": "code",
   "execution_count": null,
   "metadata": {},
   "outputs": [],
   "source": []
  }
 ],
 "metadata": {
  "kernelspec": {
   "display_name": "Python 3",
   "language": "python",
   "name": "python3"
  },
  "language_info": {
   "codemirror_mode": {
    "name": "ipython",
    "version": 3
   },
   "file_extension": ".py",
   "mimetype": "text/x-python",
   "name": "python",
   "nbconvert_exporter": "python",
   "pygments_lexer": "ipython3",
   "version": "3.7.3"
  }
 },
 "nbformat": 4,
 "nbformat_minor": 2
}
